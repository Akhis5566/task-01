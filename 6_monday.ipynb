{
 "cells": [
  {
   "cell_type": "code",
   "execution_count": 5,
   "id": "06e3b177-3acd-4c29-a500-70c9964ad85d",
   "metadata": {},
   "outputs": [
    {
     "name": "stdout",
     "output_type": "stream",
     "text": [
      "Hello after 2 seconds!\n"
     ]
    }
   ],
   "source": [
    "import time\n",
    "\n",
    "def delay(func):\n",
    "    def wrapper():\n",
    "        time.sleep(2)\n",
    "        func()\n",
    "    return wrapper\n",
    "\n",
    "@delay\n",
    "def show():\n",
    "    print(\"Hello after 2 seconds!\")\n",
    "    \n",
    "show()\n"
   ]
  },
  {
   "cell_type": "code",
   "execution_count": 6,
   "id": "3d58aacb-8a21-4dab-8b8e-1565fecfaad2",
   "metadata": {},
   "outputs": [
    {
     "name": "stdout",
     "output_type": "stream",
     "text": [
      "python after 3 second !\n"
     ]
    }
   ],
   "source": [
    "import time\n",
    "\n",
    "def dealy(func):\n",
    "    def wrapper():\n",
    "        time.sleep(6)\n",
    "        func()\n",
    "    return wrapper\n",
    "\n",
    "@delay\n",
    "def show():\n",
    "    print(\"python after 3 second !\")\n",
    "\n",
    "show()    "
   ]
  },
  {
   "cell_type": "code",
   "execution_count": null,
   "id": "ec831f47-30f5-4078-b68b-1d0586ece8af",
   "metadata": {},
   "outputs": [],
   "source": []
  }
 ],
 "metadata": {
  "kernelspec": {
   "display_name": "Python 3 (ipykernel)",
   "language": "python",
   "name": "python3"
  },
  "language_info": {
   "codemirror_mode": {
    "name": "ipython",
    "version": 3
   },
   "file_extension": ".py",
   "mimetype": "text/x-python",
   "name": "python",
   "nbconvert_exporter": "python",
   "pygments_lexer": "ipython3",
   "version": "3.13.7"
  }
 },
 "nbformat": 4,
 "nbformat_minor": 5
}
