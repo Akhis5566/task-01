{
 "cells": [
  {
   "cell_type": "code",
   "execution_count": 6,
   "id": "9924bab8-ce75-431d-9508-d4c28832e65e",
   "metadata": {},
   "outputs": [
    {
     "name": "stdout",
     "output_type": "stream",
     "text": [
      "15\n",
      "5\n",
      "50\n",
      "2.0\n",
      "3\n",
      "1\n",
      "8\n"
     ]
    }
   ],
   "source": [
    "import operator\n",
    "\n",
    "print(operator.add(10, 5))       # 10 + 5\n",
    "print(operator.sub(10, 5))       # 10 - 5\n",
    "print(operator.mul(10, 5))       # 10 * 5\n",
    "print(operator.truediv(10, 5))   # 10 / 5\n",
    "print(operator.floordiv(10, 3))  # 10 // 3\n",
    "print(operator.mod(10, 3))       # 10 % 3\n",
    "print(operator.pow(2, 3))        # 2 ** 3\n"
   ]
  },
  {
   "cell_type": "code",
   "execution_count": 7,
   "id": "8da4c0e2-ebef-4703-8e83-bdca303f2529",
   "metadata": {},
   "outputs": [
    {
     "name": "stdout",
     "output_type": "stream",
     "text": [
      "False\n",
      "True\n",
      "True\n",
      "False\n",
      "True\n",
      "False\n"
     ]
    }
   ],
   "source": [
    "print(operator.eq(10, 5))   # 10 == 5\n",
    "print(operator.ne(10, 5))   # 10 != 5\n",
    "print(operator.gt(10, 5))   # 10 > 5\n",
    "print(operator.lt(10, 5))   # 10 < 5\n",
    "print(operator.ge(10, 5))   # 10 >= 5\n",
    "print(operator.le(10, 5))   # 10 <= 5\n"
   ]
  },
  {
   "cell_type": "code",
   "execution_count": 8,
   "id": "f3f43fde-4bd3-4369-92ae-1f38a748899c",
   "metadata": {},
   "outputs": [
    {
     "name": "stdout",
     "output_type": "stream",
     "text": [
      "False\n",
      "True\n",
      "False\n"
     ]
    }
   ],
   "source": [
    "print(operator.and_(True, False))   # True and False\n",
    "print(operator.or_(True, False))    # True or False\n",
    "print(operator.not_(True))          # not True\n"
   ]
  },
  {
   "cell_type": "code",
   "execution_count": 9,
   "id": "e673763f-2c7f-435b-b7e9-bc9c7f1e0930",
   "metadata": {},
   "outputs": [
    {
     "name": "stdout",
     "output_type": "stream",
     "text": [
      "1\n",
      "7\n",
      "6\n",
      "-6\n",
      "16\n",
      "2\n"
     ]
    }
   ],
   "source": [
    "print(operator.and_(5, 3))      # 5 & 3\n",
    "print(operator.or_(5, 3))       # 5 | 3\n",
    "print(operator.xor(5, 3))       # 5 ^ 3\n",
    "print(operator.invert(5))       # ~5\n",
    "print(operator.lshift(2, 3))    # 2 << 3\n",
    "print(operator.rshift(16, 3))   # 16 >> 3\n"
   ]
  },
  {
   "cell_type": "code",
   "execution_count": null,
   "id": "d758880a-3225-4cb1-84be-7bd57f9743d1",
   "metadata": {},
   "outputs": [],
   "source": []
  }
 ],
 "metadata": {
  "kernelspec": {
   "display_name": "Python 3 (ipykernel)",
   "language": "python",
   "name": "python3"
  },
  "language_info": {
   "codemirror_mode": {
    "name": "ipython",
    "version": 3
   },
   "file_extension": ".py",
   "mimetype": "text/x-python",
   "name": "python",
   "nbconvert_exporter": "python",
   "pygments_lexer": "ipython3",
   "version": "3.13.7"
  }
 },
 "nbformat": 4,
 "nbformat_minor": 5
}
