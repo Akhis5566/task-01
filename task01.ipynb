{
 "cells": [
  {
   "cell_type": "code",
   "execution_count": 6,
   "id": "d758880a-3225-4cb1-84be-7bd57f9743d1",
   "metadata": {},
   "outputs": [
    {
     "name": "stdout",
     "output_type": "stream",
     "text": [
      "17\n",
      "7\n",
      "2.4\n",
      "60\n",
      "2\n",
      "248832\n",
      "2\n"
     ]
    }
   ],
   "source": [
    "#Arithmetic operators\n",
    "A =12\n",
    "B = 5\n",
    "print(A+B)\n",
    "print(A-B)\n",
    "print(A/B)\n",
    "print(A*B)\n",
    "print(A//B)\n",
    "print(A**B)\n",
    "print(A%B)\n"
   ]
  },
  {
   "cell_type": "code",
   "execution_count": null,
   "id": "29308a6f-9c9e-4d4d-a7c1-74b11688ed95",
   "metadata": {},
   "outputs": [],
   "source": []
  },
  {
   "cell_type": "code",
   "execution_count": 9,
   "id": "4fd80541-b240-4f0a-8df2-9a89c65dac76",
   "metadata": {},
   "outputs": [
    {
     "name": "stdout",
     "output_type": "stream",
     "text": [
      "False\n",
      "True\n",
      "False\n"
     ]
    }
   ],
   "source": [
    "#logical operators\n",
    "A = True\n",
    "B = False\n",
    "print(A and B)\n",
    "print(A or B)\n",
    "print(not(A or B))\n"
   ]
  },
  {
   "cell_type": "code",
   "execution_count": 10,
   "id": "7be036d6-5758-4263-a2df-653f0c13fad9",
   "metadata": {
    "jp-MarkdownHeadingCollapsed": true
   },
   "outputs": [
    {
     "name": "stdout",
     "output_type": "stream",
     "text": [
      "False\n",
      "True\n",
      "False\n",
      "True\n"
     ]
    }
   ],
   "source": [
    "#comparision operators\n",
    "A = 5\n",
    "B = 6\n",
    "print(A == B)\n",
    "print(A <= B)\n",
    "print(A >= B)\n",
    "print(A != B)"
   ]
  },
  {
   "cell_type": "code",
   "execution_count": 11,
   "id": "195f06e1-84ec-4548-9ff2-31c3f53c059e",
   "metadata": {},
   "outputs": [
    {
     "name": "stdout",
     "output_type": "stream",
     "text": [
      "False\n",
      "True\n"
     ]
    }
   ],
   "source": [
    "#Identity operators\n",
    "A = 8 \n",
    "B = 2\n",
    "print(A is B)\n",
    "print(A is not B)\n"
   ]
  },
  {
   "cell_type": "code",
   "execution_count": 12,
   "id": "d8131e2a-6eac-4077-abab-f2821ed4943c",
   "metadata": {},
   "outputs": [
    {
     "name": "stdout",
     "output_type": "stream",
     "text": [
      "True\n",
      "False\n",
      "False\n"
     ]
    }
   ],
   "source": [
    "#Membership operators\n",
    "A = {2,4,6,8,10}\n",
    "print(8 in A)\n",
    "print(4 not in A)\n",
    "print(6 not in A)"
   ]
  },
  {
   "cell_type": "code",
   "execution_count": 13,
   "id": "67490707-6158-44f2-a971-e4b28d48e918",
   "metadata": {},
   "outputs": [
    {
     "name": "stdout",
     "output_type": "stream",
     "text": [
      "0\n",
      "15\n",
      "0\n",
      "16384\n"
     ]
    }
   ],
   "source": [
    "#Bitwise operators\n",
    "A = True\n",
    "B = 14\n",
    "print(A & B)\n",
    "print(A | B)\n",
    "print(A >> B)\n",
    "print(A << B)\n",
    "\n"
   ]
  },
  {
   "cell_type": "code",
   "execution_count": 14,
   "id": "028be156-a338-4d14-9230-79fc8298dc2f",
   "metadata": {},
   "outputs": [
    {
     "name": "stdout",
     "output_type": "stream",
     "text": [
      "3\n",
      "2\n"
     ]
    }
   ],
   "source": [
    "#Boolean operators\n",
    "A = 2 \n",
    "B = 3\n",
    "print(A and B)\n",
    "print(A or B)"
   ]
  },
  {
   "cell_type": "code",
   "execution_count": 15,
   "id": "ba3c4efe-1c24-4c16-882c-41eb263940b9",
   "metadata": {},
   "outputs": [
    {
     "name": "stdout",
     "output_type": "stream",
     "text": [
      "3\n",
      "1\n"
     ]
    }
   ],
   "source": [
    "#assignment operators\n",
    "A = 2\n",
    "B = 4\n",
    "A +=1\n",
    "B -=3\n",
    "print(A)\n",
    "print(B)"
   ]
  },
  {
   "cell_type": "code",
   "execution_count": null,
   "id": "ec4b6ca5-609e-4ceb-9f86-b9bf60cf8377",
   "metadata": {},
   "outputs": [],
   "source": []
  }
 ],
 "metadata": {
  "kernelspec": {
   "display_name": "Python 3 (ipykernel)",
   "language": "python",
   "name": "python3"
  },
  "language_info": {
   "codemirror_mode": {
    "name": "ipython",
    "version": 3
   },
   "file_extension": ".py",
   "mimetype": "text/x-python",
   "name": "python",
   "nbconvert_exporter": "python",
   "pygments_lexer": "ipython3",
   "version": "3.13.7"
  }
 },
 "nbformat": 4,
 "nbformat_minor": 5
}
