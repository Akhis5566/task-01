{
 "cells": [
  {
   "cell_type": "code",
   "execution_count": 3,
   "id": "a688897d-815b-4197-bb0f-30e101ac6e72",
   "metadata": {},
   "outputs": [
    {
     "name": "stdout",
     "output_type": "stream",
     "text": [
      "Car Details:\n",
      "Make: Toyota\n",
      "Model: Camry\n",
      "Year: 2022\n",
      "\n",
      "Motorcycle Details:\n",
      "Make: Harley-Davidson\n",
      "Model: Street 750\n",
      "Year: 2021\n",
      "Has Sidecar: Yes\n"
     ]
    }
   ],
   "source": [
    "class Vehicle:\n",
    "    def __init__(self, make, model, year):\n",
    "        self.make = make\n",
    "        self.model = model\n",
    "        self.year = year        \n",
    "    def display_info(self):\n",
    "        print(f\"Make: {self.make}\")\n",
    "        print(f\"Model: {self.model}\")\n",
    "        print(f\"Year: {self.year}\")            \n",
    "\n",
    "class Car(Vehicle): \n",
    "    def __init__(self, make, model, year, num_doors):\n",
    "        super().__init__(make, model, year)\n",
    "        self.num_doors = num_doors\n",
    "\n",
    "def display_info(self):\n",
    "        super().display_info()\n",
    "        print(f\"Number of Doors: {self.num_doors}\")\n",
    "\n",
    "class Motorcycle(Vehicle):  \n",
    "    def __init__(self, make, model, year, has_sidecar):\n",
    "        super().__init__(make, model, year)\n",
    "        self.has_sidecar = has_sidecar\n",
    "\n",
    "    def display_info(self):\n",
    "        super().display_info()\n",
    "        print(f\"Has Sidecar: {'Yes' if self.has_sidecar else 'No'}\")\n",
    "\n",
    "\n",
    "print(\"Car Details:\")\n",
    "car1 = Car(\"Toyota\", \"Camry\", 2022, 4)\n",
    "car1.display_info()\n",
    "\n",
    "print(\"\\nMotorcycle Details:\")\n",
    "bike1 = Motorcycle(\"Harley-Davidson\", \"Street 750\", 2021, True)\n",
    "bike1.display_info()"
   ]
  },
  {
   "cell_type": "code",
   "execution_count": null,
   "id": "16fa126d-62c1-4676-bd95-8a18361e78aa",
   "metadata": {},
   "outputs": [],
   "source": []
  }
 ],
 "metadata": {
  "kernelspec": {
   "display_name": "Python 3 (ipykernel)",
   "language": "python",
   "name": "python3"
  },
  "language_info": {
   "codemirror_mode": {
    "name": "ipython",
    "version": 3
   },
   "file_extension": ".py",
   "mimetype": "text/x-python",
   "name": "python",
   "nbconvert_exporter": "python",
   "pygments_lexer": "ipython3",
   "version": "3.13.7"
  }
 },
 "nbformat": 4,
 "nbformat_minor": 5
}
