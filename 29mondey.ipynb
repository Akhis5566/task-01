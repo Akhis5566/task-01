{
 "cells": [
  {
   "cell_type": "code",
   "execution_count": 9,
   "id": "506de5f1-710f-4710-9111-011ab73594b6",
   "metadata": {},
   "outputs": [
    {
     "name": "stdout",
     "output_type": "stream",
     "text": [
      "name:akhis\n",
      "age:akhis\n",
      "name:gokul\n"
     ]
    }
   ],
   "source": [
    "class Person:\n",
    "    def __init__(self,name,age):\n",
    "        self.name = name\n",
    "        self.age = age\n",
    "e1 = Person(\"akhis\",20)\n",
    "e2 = Person(\"gokul\",19)\n",
    "print(\"name:{}\".format(e1.name))\n",
    "print(\"age:{}\".format(e1.age))\n",
    "print(\"name:{}\".format(e2.name))"
   ]
  },
  {
   "cell_type": "code",
   "execution_count": 29,
   "id": "a7bcd307-ff9d-42d2-ab48-78d946caac35",
   "metadata": {},
   "outputs": [
    {
     "name": "stdout",
     "output_type": "stream",
     "text": [
      "name:Akhis\n",
      "age:20\n",
      "name:gokul\n"
     ]
    }
   ],
   "source": [
    "class person:\n",
    "    def __init__(self,name=\"Akhis\",age=20):\n",
    "        self.name = name\n",
    "        self.age = age\n",
    "p1 = person()\n",
    "p2 = person(\"gokul\",19)\n",
    "print(\"name:{}\".format(p1.name))\n",
    "print(\"age:{}\".format(p1.age))\n",
    "print(\"name:{}\".format(p2.name))\n",
    "     "
   ]
  },
  {
   "cell_type": "code",
   "execution_count": null,
   "id": "ea9e67e5-7be3-42e4-8d54-f97d63c409b8",
   "metadata": {},
   "outputs": [],
   "source": []
  }
 ],
 "metadata": {
  "kernelspec": {
   "display_name": "Python 3 (ipykernel)",
   "language": "python",
   "name": "python3"
  },
  "language_info": {
   "codemirror_mode": {
    "name": "ipython",
    "version": 3
   },
   "file_extension": ".py",
   "mimetype": "text/x-python",
   "name": "python",
   "nbconvert_exporter": "python",
   "pygments_lexer": "ipython3",
   "version": "3.13.7"
  }
 },
 "nbformat": 4,
 "nbformat_minor": 5
}
