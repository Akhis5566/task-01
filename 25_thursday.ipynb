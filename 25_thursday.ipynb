{
 "cells": [
  {
   "cell_type": "code",
   "execution_count": 1,
   "id": "679ea311-ad9e-44da-aa3c-f6cc71d1954f",
   "metadata": {},
   "outputs": [
    {
     "name": "stdout",
     "output_type": "stream",
     "text": [
      "Average Marks: 84.16666666666667\n",
      "Student–Marks Dictionary: {'Student1': 85, 'Student2': 90, 'Student3': 75, 'Student4': 90, 'Student5': 80, 'Student6': 85}\n",
      "Unique Marks (Set): {80, 90, 75, 85}\n",
      "Sorted Unique Marks (Tuple): (75, 80, 85, 90)\n"
     ]
    }
   ],
   "source": [
    "import statistics\n",
    "marks = [85, 90, 75, 90, 80, 85]\n",
    "average = statistics.mean(marks)\n",
    "print(\"Average Marks:\", average)\n",
    "students = {\"Student\" + str(i+1): m for i, m in enumerate(marks)}\n",
    "print(\"Student–Marks Dictionary:\", students)\n",
    "unique_marks = set(marks)\n",
    "print(\"Unique Marks (Set):\", unique_marks)\n",
    "sorted_unique = tuple(sorted(unique_marks))\n",
    "print(\"Sorted Unique Marks (Tuple):\", sorted_unique)\n"
   ]
  },
  {
   "cell_type": "code",
   "execution_count": null,
   "id": "020c32ad-2366-46d1-96cb-5ba62ce0e50e",
   "metadata": {},
   "outputs": [],
   "source": []
  }
 ],
 "metadata": {
  "kernelspec": {
   "display_name": "Python 3 (ipykernel)",
   "language": "python",
   "name": "python3"
  },
  "language_info": {
   "codemirror_mode": {
    "name": "ipython",
    "version": 3
   },
   "file_extension": ".py",
   "mimetype": "text/x-python",
   "name": "python",
   "nbconvert_exporter": "python",
   "pygments_lexer": "ipython3",
   "version": "3.13.7"
  }
 },
 "nbformat": 4,
 "nbformat_minor": 5
}
