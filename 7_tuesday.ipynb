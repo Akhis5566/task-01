{
 "cells": [
  {
   "cell_type": "code",
   "execution_count": 4,
   "id": "49fd6f16-9324-4353-9910-fe78066e469a",
   "metadata": {},
   "outputs": [
    {
     "name": "stdout",
     "output_type": "stream",
     "text": [
      "8\n"
     ]
    }
   ],
   "source": [
    "def power(base):\n",
    "    def exponent(n):\n",
    "        return base ** n\n",
    "    return exponent\n",
    "result = power(2)\n",
    "print(result(3))"
   ]
  },
  {
   "cell_type": "code",
   "execution_count": 15,
   "id": "a98a6386-a2b5-41b9-ad07-ffe833b124d6",
   "metadata": {},
   "outputs": [
    {
     "name": "stdout",
     "output_type": "stream",
     "text": [
      "Invalid input! Length and width must be positive numbers.\n",
      "Invalid input! Length and width must be positive numbers.\n"
     ]
    }
   ],
   "source": [
    "def rectangle_area(lenght,width):\n",
    "    def validate():\n",
    "        return lenght < 0 and width < 0\n",
    "        \n",
    "    if validate():\n",
    "        area = lenght * width\n",
    "        print(\"Area of rectangle:\",area)\n",
    "\n",
    "    else:\n",
    "        print(\"Invalid input! Length and width must be positive numbers.\")\n",
    "\n",
    "\n",
    "rectangle_area(3,4)\n",
    "rectangle_area(22,34)"
   ]
  },
  {
   "cell_type": "code",
   "execution_count": null,
   "id": "0642099f-8876-4402-80aa-77bc80b499ff",
   "metadata": {},
   "outputs": [],
   "source": []
  }
 ],
 "metadata": {
  "kernelspec": {
   "display_name": "Python 3 (ipykernel)",
   "language": "python",
   "name": "python3"
  },
  "language_info": {
   "codemirror_mode": {
    "name": "ipython",
    "version": 3
   },
   "file_extension": ".py",
   "mimetype": "text/x-python",
   "name": "python",
   "nbconvert_exporter": "python",
   "pygments_lexer": "ipython3",
   "version": "3.13.7"
  }
 },
 "nbformat": 4,
 "nbformat_minor": 5
}
