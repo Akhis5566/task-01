{
 "cells": [
  {
   "cell_type": "code",
   "execution_count": 7,
   "id": "c075b8ea-03c1-45fd-9501-113dc2974850",
   "metadata": {},
   "outputs": [
    {
     "name": "stdin",
     "output_type": "stream",
     "text": [
      "Enter range 4\n"
     ]
    },
    {
     "name": "stdout",
     "output_type": "stream",
     "text": [
      "BWBW\n",
      "WBWB\n",
      "BWBW\n",
      "WBWB\n",
      "\n"
     ]
    }
   ],
   "source": [
    "n = int(input(\"Enter range\"))\n",
    "for i in range (1,n+1):\n",
    "    for j in range (1, n+1):\n",
    "        if j % 2 != 0:\n",
    "            print(\"BWBW\")\n",
    "        else:\n",
    "            print(\"WBWB\")\n",
    "    print( )\n",
    "    break"
   ]
  },
  {
   "cell_type": "code",
   "execution_count": null,
   "id": "a2d1f6be-6a2a-47ec-b683-828db605aef4",
   "metadata": {},
   "outputs": [],
   "source": []
  }
 ],
 "metadata": {
  "kernelspec": {
   "display_name": "Python 3 (ipykernel)",
   "language": "python",
   "name": "python3"
  },
  "language_info": {
   "codemirror_mode": {
    "name": "ipython",
    "version": 3
   },
   "file_extension": ".py",
   "mimetype": "text/x-python",
   "name": "python",
   "nbconvert_exporter": "python",
   "pygments_lexer": "ipython3",
   "version": "3.13.7"
  }
 },
 "nbformat": 4,
 "nbformat_minor": 5
}
