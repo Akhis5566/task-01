{
 "cells": [
  {
   "cell_type": "code",
   "execution_count": 3,
   "id": "aa31ceb1-b0af-4e04-95dc-f6119ad7ab4f",
   "metadata": {},
   "outputs": [
    {
     "name": "stdout",
     "output_type": "stream",
     "text": [
      "True\n"
     ]
    }
   ],
   "source": [
    "class laptop:\n",
    "    def __init__(self,brand):\n",
    "        self.brand = brand\n",
    "l1 = laptop(\"hp\")\n",
    "l2 = laptop(\"dell\")\n",
    "\n",
    "print(hasattr(l1, \"brand\"))\n"
   ]
  },
  {
   "cell_type": "code",
   "execution_count": 17,
   "id": "db75b927-901f-488e-96e9-006fb5d7d8f2",
   "metadata": {},
   "outputs": [
    {
     "name": "stdout",
     "output_type": "stream",
     "text": [
      "True\n",
      "False\n"
     ]
    }
   ],
   "source": [
    "class Dog:\n",
    "    def __init__(self,breed,age):\n",
    "        self.breed = breed\n",
    "        self.age = age\n",
    "d2 = Dog(\"puppy\",\"10\")\n",
    "delattr(d2,\"age\")\n",
    "print(hasattr(d2,\"breed\"))\n",
    "print(hasattr(d2,\"age\"))\n"
   ]
  },
  {
   "cell_type": "code",
   "execution_count": null,
   "id": "8122cc99-dcad-453b-b0be-6a62e00f344b",
   "metadata": {},
   "outputs": [],
   "source": []
  },
  {
   "cell_type": "code",
   "execution_count": null,
   "id": "e3cb4cac-2123-4737-8351-59fda7873562",
   "metadata": {},
   "outputs": [],
   "source": []
  }
 ],
 "metadata": {
  "kernelspec": {
   "display_name": "Python 3 (ipykernel)",
   "language": "python",
   "name": "python3"
  },
  "language_info": {
   "codemirror_mode": {
    "name": "ipython",
    "version": 3
   },
   "file_extension": ".py",
   "mimetype": "text/x-python",
   "name": "python",
   "nbconvert_exporter": "python",
   "pygments_lexer": "ipython3",
   "version": "3.13.7"
  }
 },
 "nbformat": 4,
 "nbformat_minor": 5
}
