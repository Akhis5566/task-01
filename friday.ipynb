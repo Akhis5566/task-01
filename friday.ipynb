{
 "cells": [
  {
   "cell_type": "code",
   "execution_count": 11,
   "id": "d30c40cc-ca45-4e8d-833c-ea312920f123",
   "metadata": {},
   "outputs": [
    {
     "name": "stdin",
     "output_type": "stream",
     "text": [
      " 60\n"
     ]
    },
    {
     "name": "stdout",
     "output_type": "stream",
     "text": [
      "senior\n"
     ]
    }
   ],
   "source": [
    "a = int(input())\n",
    "#a < 18: minor\n",
    "#a >= 18 and a < 60: adult\n",
    "#a >= 60: senior\n",
    "if (a < 18):\n",
    "    print(\"minor\")\n",
    "elif(a >= 18) and (a < 60):\n",
    "    print(\"adult\")\n",
    "elif(a >= 60):\n",
    "    print(\"senior\")"
   ]
  },
  {
   "cell_type": "code",
   "execution_count": null,
   "id": "85bdeb9b-d3a6-4112-ab7e-5c4c2c52a06a",
   "metadata": {},
   "outputs": [],
   "source": []
  }
 ],
 "metadata": {
  "kernelspec": {
   "display_name": "Python 3 (ipykernel)",
   "language": "python",
   "name": "python3"
  },
  "language_info": {
   "codemirror_mode": {
    "name": "ipython",
    "version": 3
   },
   "file_extension": ".py",
   "mimetype": "text/x-python",
   "name": "python",
   "nbconvert_exporter": "python",
   "pygments_lexer": "ipython3",
   "version": "3.13.7"
  }
 },
 "nbformat": 4,
 "nbformat_minor": 5
}
